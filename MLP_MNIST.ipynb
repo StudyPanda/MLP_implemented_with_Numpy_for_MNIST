{
  "cells": [
    {
      "cell_type": "code",
      "execution_count": 1,
      "metadata": {
        "id": "FhHorHBo7hG9"
      },
      "outputs": [],
      "source": [
        "import torch\n",
        "from torch import nn\n",
        "from torchvision import datasets, transforms\n",
        "from torch.utils.data import DataLoader, random_split\n",
        "import matplotlib.pyplot as plt\n",
        "import numpy as np\n",
        "from tensorflow.keras.utils import to_categorical\n",
        "from sklearn.model_selection import train_test_split\n",
        "from keras.datasets import mnist\n",
        "from copy import deepcopy"
      ]
    },
    {
      "cell_type": "code",
      "source": [
        "!pip install wandb\n",
        "import wandb\n",
        "wandb.login()"
      ],
      "metadata": {
        "colab": {
          "base_uri": "https://localhost:8080/",
          "height": 715
        },
        "id": "WktjEOG9IMwP",
        "outputId": "f712be97-9ae9-4907-e82f-9ee295c88ecd"
      },
      "execution_count": 2,
      "outputs": [
        {
          "output_type": "stream",
          "name": "stdout",
          "text": [
            "Collecting wandb\n",
            "  Downloading wandb-0.17.4-py3-none-manylinux_2_5_x86_64.manylinux1_x86_64.manylinux_2_17_x86_64.manylinux2014_x86_64.whl (6.9 MB)\n",
            "\u001b[2K     \u001b[90m━━━━━━━━━━━━━━━━━━━━━━━━━━━━━━━━━━━━━━━━\u001b[0m \u001b[32m6.9/6.9 MB\u001b[0m \u001b[31m56.2 MB/s\u001b[0m eta \u001b[36m0:00:00\u001b[0m\n",
            "\u001b[?25hRequirement already satisfied: click!=8.0.0,>=7.1 in /usr/local/lib/python3.10/dist-packages (from wandb) (8.1.7)\n",
            "Collecting docker-pycreds>=0.4.0 (from wandb)\n",
            "  Downloading docker_pycreds-0.4.0-py2.py3-none-any.whl (9.0 kB)\n",
            "Collecting gitpython!=3.1.29,>=1.0.0 (from wandb)\n",
            "  Downloading GitPython-3.1.43-py3-none-any.whl (207 kB)\n",
            "\u001b[2K     \u001b[90m━━━━━━━━━━━━━━━━━━━━━━━━━━━━━━━━━━━━━━━━\u001b[0m \u001b[32m207.3/207.3 kB\u001b[0m \u001b[31m24.0 MB/s\u001b[0m eta \u001b[36m0:00:00\u001b[0m\n",
            "\u001b[?25hRequirement already satisfied: platformdirs in /usr/local/lib/python3.10/dist-packages (from wandb) (4.2.2)\n",
            "Requirement already satisfied: protobuf!=4.21.0,<6,>=3.19.0 in /usr/local/lib/python3.10/dist-packages (from wandb) (3.20.3)\n",
            "Requirement already satisfied: psutil>=5.0.0 in /usr/local/lib/python3.10/dist-packages (from wandb) (5.9.5)\n",
            "Requirement already satisfied: pyyaml in /usr/local/lib/python3.10/dist-packages (from wandb) (6.0.1)\n",
            "Requirement already satisfied: requests<3,>=2.0.0 in /usr/local/lib/python3.10/dist-packages (from wandb) (2.31.0)\n",
            "Collecting sentry-sdk>=1.0.0 (from wandb)\n",
            "  Downloading sentry_sdk-2.7.1-py2.py3-none-any.whl (300 kB)\n",
            "\u001b[2K     \u001b[90m━━━━━━━━━━━━━━━━━━━━━━━━━━━━━━━━━━━━━━━━\u001b[0m \u001b[32m300.2/300.2 kB\u001b[0m \u001b[31m27.5 MB/s\u001b[0m eta \u001b[36m0:00:00\u001b[0m\n",
            "\u001b[?25hCollecting setproctitle (from wandb)\n",
            "  Downloading setproctitle-1.3.3-cp310-cp310-manylinux_2_5_x86_64.manylinux1_x86_64.manylinux_2_17_x86_64.manylinux2014_x86_64.whl (30 kB)\n",
            "Requirement already satisfied: setuptools in /usr/local/lib/python3.10/dist-packages (from wandb) (67.7.2)\n",
            "Requirement already satisfied: six>=1.4.0 in /usr/local/lib/python3.10/dist-packages (from docker-pycreds>=0.4.0->wandb) (1.16.0)\n",
            "Collecting gitdb<5,>=4.0.1 (from gitpython!=3.1.29,>=1.0.0->wandb)\n",
            "  Downloading gitdb-4.0.11-py3-none-any.whl (62 kB)\n",
            "\u001b[2K     \u001b[90m━━━━━━━━━━━━━━━━━━━━━━━━━━━━━━━━━━━━━━━━\u001b[0m \u001b[32m62.7/62.7 kB\u001b[0m \u001b[31m8.3 MB/s\u001b[0m eta \u001b[36m0:00:00\u001b[0m\n",
            "\u001b[?25hRequirement already satisfied: charset-normalizer<4,>=2 in /usr/local/lib/python3.10/dist-packages (from requests<3,>=2.0.0->wandb) (3.3.2)\n",
            "Requirement already satisfied: idna<4,>=2.5 in /usr/local/lib/python3.10/dist-packages (from requests<3,>=2.0.0->wandb) (3.7)\n",
            "Requirement already satisfied: urllib3<3,>=1.21.1 in /usr/local/lib/python3.10/dist-packages (from requests<3,>=2.0.0->wandb) (2.0.7)\n",
            "Requirement already satisfied: certifi>=2017.4.17 in /usr/local/lib/python3.10/dist-packages (from requests<3,>=2.0.0->wandb) (2024.6.2)\n",
            "Collecting smmap<6,>=3.0.1 (from gitdb<5,>=4.0.1->gitpython!=3.1.29,>=1.0.0->wandb)\n",
            "  Downloading smmap-5.0.1-py3-none-any.whl (24 kB)\n",
            "Installing collected packages: smmap, setproctitle, sentry-sdk, docker-pycreds, gitdb, gitpython, wandb\n",
            "Successfully installed docker-pycreds-0.4.0 gitdb-4.0.11 gitpython-3.1.43 sentry-sdk-2.7.1 setproctitle-1.3.3 smmap-5.0.1 wandb-0.17.4\n"
          ]
        },
        {
          "output_type": "display_data",
          "data": {
            "text/plain": [
              "<IPython.core.display.Javascript object>"
            ],
            "application/javascript": [
              "\n",
              "        window._wandbApiKey = new Promise((resolve, reject) => {\n",
              "            function loadScript(url) {\n",
              "            return new Promise(function(resolve, reject) {\n",
              "                let newScript = document.createElement(\"script\");\n",
              "                newScript.onerror = reject;\n",
              "                newScript.onload = resolve;\n",
              "                document.body.appendChild(newScript);\n",
              "                newScript.src = url;\n",
              "            });\n",
              "            }\n",
              "            loadScript(\"https://cdn.jsdelivr.net/npm/postmate/build/postmate.min.js\").then(() => {\n",
              "            const iframe = document.createElement('iframe')\n",
              "            iframe.style.cssText = \"width:0;height:0;border:none\"\n",
              "            document.body.appendChild(iframe)\n",
              "            const handshake = new Postmate({\n",
              "                container: iframe,\n",
              "                url: 'https://wandb.ai/authorize'\n",
              "            });\n",
              "            const timeout = setTimeout(() => reject(\"Couldn't auto authenticate\"), 5000)\n",
              "            handshake.then(function(child) {\n",
              "                child.on('authorize', data => {\n",
              "                    clearTimeout(timeout)\n",
              "                    resolve(data)\n",
              "                });\n",
              "            });\n",
              "            })\n",
              "        });\n",
              "    "
            ]
          },
          "metadata": {}
        },
        {
          "output_type": "stream",
          "name": "stderr",
          "text": [
            "\u001b[34m\u001b[1mwandb\u001b[0m: Logging into wandb.ai. (Learn how to deploy a W&B server locally: https://wandb.me/wandb-server)\n",
            "\u001b[34m\u001b[1mwandb\u001b[0m: You can find your API key in your browser here: https://wandb.ai/authorize\n",
            "wandb: Paste an API key from your profile and hit enter, or press ctrl+c to quit:"
          ]
        },
        {
          "name": "stdout",
          "output_type": "stream",
          "text": [
            " ··········\n"
          ]
        },
        {
          "output_type": "stream",
          "name": "stderr",
          "text": [
            "\u001b[34m\u001b[1mwandb\u001b[0m: Appending key for api.wandb.ai to your netrc file: /root/.netrc\n"
          ]
        },
        {
          "output_type": "execute_result",
          "data": {
            "text/plain": [
              "True"
            ]
          },
          "metadata": {},
          "execution_count": 2
        }
      ]
    },
    {
      "cell_type": "markdown",
      "metadata": {
        "id": "5qN4ZD6Xvbe9"
      },
      "source": [
        "#Loading MNIST"
      ]
    },
    {
      "cell_type": "code",
      "execution_count": 3,
      "metadata": {
        "id": "FKVwajeIvlsx",
        "colab": {
          "base_uri": "https://localhost:8080/"
        },
        "outputId": "1804adc7-6b81-4f75-885a-3f645c15ba92"
      },
      "outputs": [
        {
          "output_type": "stream",
          "name": "stdout",
          "text": [
            "Downloading data from https://storage.googleapis.com/tensorflow/tf-keras-datasets/mnist.npz\n",
            "11490434/11490434 [==============================] - 0s 0us/step\n"
          ]
        }
      ],
      "source": [
        "(train_X, train_y), (test_X, test_y) = mnist.load_data()"
      ]
    },
    {
      "cell_type": "code",
      "execution_count": 4,
      "metadata": {
        "colab": {
          "base_uri": "https://localhost:8080/"
        },
        "id": "kGAu-qGy0Ivr",
        "outputId": "de5da238-96e3-40df-ac0d-05b1dbe4c148"
      },
      "outputs": [
        {
          "output_type": "stream",
          "name": "stdout",
          "text": [
            "(54000, 28, 28)\n",
            "(6000, 28, 28)\n"
          ]
        }
      ],
      "source": [
        "val_start = int(train_X.shape[0] * 0.9)\n",
        "val_X = train_X[val_start:]\n",
        "val_y = train_y[val_start:]\n",
        "train_X = train_X[:val_start]\n",
        "train_y = train_y[:val_start]\n",
        "print(train_X.shape)\n",
        "print(val_X.shape)"
      ]
    },
    {
      "cell_type": "code",
      "execution_count": 5,
      "metadata": {
        "id": "WgKs26iEv53e"
      },
      "outputs": [],
      "source": [
        "train_X = train_X.reshape((train_X.shape[0], -1))\n",
        "test_X = test_X.reshape((test_X.shape[0], -1))\n",
        "val_X = val_X.reshape((val_X.shape[0], -1))\n",
        "train_X = train_X.astype('float32') / 255\n",
        "test_X = test_X.astype('float32') / 255\n",
        "val_X = val_X.astype('float32') / 255\n",
        "\n",
        "train_y = to_categorical(train_y, num_classes=10)\n",
        "val_y = to_categorical(val_y, num_classes=10)"
      ]
    },
    {
      "cell_type": "code",
      "execution_count": 7,
      "metadata": {
        "id": "TGaKNzf8MArJ"
      },
      "outputs": [],
      "source": [
        "#Hyperparameters\n",
        "batch_size = 32\n",
        "num_epochs = 300\n",
        "hidden_layers = [512, 256, 128]\n",
        "act_fn = 'r' #sigmoid or relu\n",
        "lr = 0.01\n",
        "mr = 0.5"
      ]
    },
    {
      "cell_type": "code",
      "execution_count": 8,
      "metadata": {
        "id": "Gshjw-Ndv3M4"
      },
      "outputs": [],
      "source": [
        "def batch_generator(X, y, batch_size=batch_size):\n",
        "    \"\"\"Generate batches of data.\"\"\"\n",
        "    n_samples = X.shape[0]\n",
        "    # Loop over the data in increments of batch_size\n",
        "    for start in range(0, n_samples, batch_size):\n",
        "        end = min(start + batch_size, n_samples)\n",
        "        yield X[start:end], y[start:end]"
      ]
    },
    {
      "cell_type": "markdown",
      "metadata": {
        "id": "4Qu4awrg1Mu5"
      },
      "source": [
        "#MLP Model"
      ]
    },
    {
      "cell_type": "code",
      "execution_count": 9,
      "metadata": {
        "id": "VWwps9wlJjn-"
      },
      "outputs": [],
      "source": [
        "#Math Functions\n",
        "\n",
        "def relu(z):\n",
        "  return np.maximum(0, z)\n",
        "\n",
        "def relu_deriv(z):\n",
        "  return (z>0).astype(float)\n",
        "\n",
        "def sigmoid(z):\n",
        "  return 1 / (1 + np.exp(-z))\n",
        "\n",
        "def sigmoid_deriv(z):\n",
        "  s = sigmoid(z)\n",
        "  return s * (1 - s)\n",
        "\n",
        "def softmax(z):\n",
        "  z_max = np.max(z, axis=1, keepdims=True)\n",
        "  e_z = np.exp(z - z_max)\n",
        "  return e_z / np.sum(e_z, axis=1, keepdims=True)\n",
        "\n",
        "def celoss(pred, tru):\n",
        "  loss = -np.sum(tru * np.log(pred))\n",
        "  return loss\n",
        "\n",
        "def celoss_deriv(a, y):\n",
        "  return a - y"
      ]
    },
    {
      "cell_type": "code",
      "execution_count": 10,
      "metadata": {
        "id": "8Lq1ma9_sG-x"
      },
      "outputs": [],
      "source": [
        "class MLP:\n",
        "  def __init__(self):\n",
        "    self.w = {}\n",
        "    self.b = {}\n",
        "    self.layer_sizes = [28*28] + hidden_layers + [10]\n",
        "    self.prev_dw = {}\n",
        "    self.prev_db = {}\n",
        "\n",
        "    #initialize weights\n",
        "    for i in range(len(self.layer_sizes) - 1):\n",
        "\n",
        "      n_in = self.layer_sizes[i]\n",
        "      n_out = self.layer_sizes[i + 1]\n",
        "\n",
        "      if act_fn == 's':\n",
        "        #Xavier initialization\n",
        "        self.act = sigmoid\n",
        "        self.act_deriv = sigmoid_deriv\n",
        "        weight_matrix = np.random.randn(n_in, n_out)  * np.sqrt(2 / (n_in + n_out))\n",
        "      else:\n",
        "        #He initialization\n",
        "        self.act = relu\n",
        "        self.act_deriv = relu_deriv\n",
        "        weight_matrix = np.random.randn(n_in, n_out)  * np.sqrt(2 / n_in)\n",
        "\n",
        "      self.w[i] = (weight_matrix)\n",
        "      self.b[i] = (np.zeros((1, n_out)))\n",
        "\n",
        "\n",
        "  def forward(self, x):\n",
        "    act = self.act\n",
        "    z = {}\n",
        "    a = {}\n",
        "    a[0] = x\n",
        "\n",
        "    for i in range(len(self.layer_sizes) - 1):\n",
        "      idx = i+1\n",
        "      if idx == len(self.layer_sizes) - 1:\n",
        "        act = softmax\n",
        "      z[idx] = a[i] @ self.w[i] + self.b[i]\n",
        "      a[idx] = act(z[idx])\n",
        "\n",
        "    return z, a\n",
        "\n",
        "  def backprop(self, z, a, y):\n",
        "\n",
        "    dz = None\n",
        "\n",
        "    for i in range(len(self.layer_sizes)-1):\n",
        "      idx = len(self.layer_sizes) - 2 - i\n",
        "\n",
        "      #softmax + crossentropy derivative\n",
        "      if i == 0:\n",
        "        dz = celoss_deriv(a[idx + 1], y) #(B, 10)\n",
        "\n",
        "      db = np.mean(dz, axis = 0)\n",
        "      dw = a[idx].T @ dz\n",
        "      dw /= batch_size\n",
        "\n",
        "      if idx in self.prev_db:\n",
        "        self.b[idx] -= lr * db + mr * self.prev_db[idx]\n",
        "        self.w[idx] -= lr * dw + mr * self.prev_dw[idx]\n",
        "\n",
        "        self.prev_db[idx] = lr * db + mr * self.prev_db[idx]\n",
        "        self.prev_dw[idx] = lr * dw + mr * self.prev_dw[idx]\n",
        "\n",
        "      else:\n",
        "        self.b[idx] -= lr * db\n",
        "        self.w[idx] -= lr * dw\n",
        "\n",
        "        self.prev_db[idx] = lr * db\n",
        "        self.prev_dw[idx] = lr * dw\n",
        "\n",
        "\n",
        "\n",
        "      if idx != 0:\n",
        "        da = dz @ self.w[idx].T\n",
        "        dz = np.multiply(self.act_deriv(z[idx]), da)\n",
        "\n",
        "\n",
        "\n"
      ]
    },
    {
      "cell_type": "code",
      "execution_count": 11,
      "metadata": {
        "colab": {
          "base_uri": "https://localhost:8080/"
        },
        "id": "WFmPo88S-B-x",
        "outputId": "a2fbe08c-7d7e-4b1c-81dd-8d6680b5391c"
      },
      "outputs": [
        {
          "output_type": "stream",
          "name": "stdout",
          "text": [
            "Epoch 1/300 done. Train loss: 0.3789073981540716, Val loss: 0.18667897294320773\n",
            "Epoch 2/300 done. Train loss: 0.1850111612434282, Val loss: 0.11786634681308508\n",
            "Epoch 3/300 done. Train loss: 0.13775497394597677, Val loss: 0.11699356140845318\n",
            "Epoch 4/300 done. Train loss: 0.11087127974692292, Val loss: 0.10433289191010704\n",
            "Epoch 5/300 done. Train loss: 0.09203065435984495, Val loss: 0.10442993176935254\n",
            "No improvement in validation loss for 1 epochs. At Epoch 5/300.\n",
            "Epoch 6/300 done. Train loss: 0.07996815334505893, Val loss: 0.13456375928334754\n",
            "No improvement in validation loss for 2 epochs. At Epoch 6/300.\n",
            "Epoch 7/300 done. Train loss: 0.0686696899653909, Val loss: 0.10213917818977289\n",
            "Epoch 8/300 done. Train loss: 0.060666290492159214, Val loss: 0.15279531234558053\n",
            "No improvement in validation loss for 1 epochs. At Epoch 8/300.\n",
            "Epoch 9/300 done. Train loss: 0.05282794680575621, Val loss: 0.10208430865626063\n",
            "Epoch 10/300 done. Train loss: 0.047792635897738384, Val loss: 0.08391151426855555\n",
            "Epoch 11/300 done. Train loss: 0.041659493369295815, Val loss: 0.11816862932128051\n",
            "No improvement in validation loss for 1 epochs. At Epoch 11/300.\n",
            "Epoch 12/300 done. Train loss: 0.03782318756238224, Val loss: 0.08196835084865423\n",
            "Epoch 13/300 done. Train loss: 0.03682872172450935, Val loss: 0.08879278827427076\n",
            "No improvement in validation loss for 1 epochs. At Epoch 13/300.\n",
            "Epoch 14/300 done. Train loss: 0.03095770767544872, Val loss: 0.07840431431639176\n",
            "Epoch 15/300 done. Train loss: 0.02758503495874354, Val loss: 0.09685452144834883\n",
            "No improvement in validation loss for 1 epochs. At Epoch 15/300.\n",
            "Epoch 16/300 done. Train loss: 0.029030313442640236, Val loss: 0.2254721904635429\n",
            "No improvement in validation loss for 2 epochs. At Epoch 16/300.\n",
            "Epoch 17/300 done. Train loss: 0.024759520723657582, Val loss: 0.09485913744592697\n",
            "No improvement in validation loss for 3 epochs. At Epoch 17/300.\n",
            "Epoch 18/300 done. Train loss: 0.019917698369193212, Val loss: 0.10066498989917892\n",
            "No improvement in validation loss for 4 epochs. At Epoch 18/300.\n",
            "Epoch 19/300 done. Train loss: 0.01883225664355129, Val loss: 0.08489960340495224\n",
            "No improvement in validation loss for 5 epochs. At Epoch 19/300.\n",
            "Early Stopping Triggered!\n",
            "Model Accuracy: 97.79%\n"
          ]
        }
      ],
      "source": [
        "\n",
        "\"\"\"wandb.init(\n",
        "      # Set the project where this run will be logged\n",
        "      project=\"MLP MNIST report\",\n",
        "      name=f\"{mr}\",\n",
        "      # Track hyperparameters and run metadata\n",
        "      config={\n",
        "      \"activation_fn\": act_fn,\n",
        "      \"hidden_layers\": hidden_layers,\n",
        "      \"learning_rate\": lr,\n",
        "      \"epochs\": num_epochs,\n",
        "      \"Momentum rate:\": mr\n",
        "      })\"\"\"\n",
        "\n",
        "\n",
        "#training\n",
        "model = MLP()\n",
        "\n",
        "best_val_loss = np.inf\n",
        "patience = 5\n",
        "\n",
        "# Variables to hold the best model state\n",
        "best_w = None\n",
        "best_b = None\n",
        "\n",
        "for epoch in range(num_epochs):\n",
        "\n",
        "  indices = np.arange(train_X.shape[0])\n",
        "  np.random.shuffle(indices)\n",
        "\n",
        "  train_X = train_X[indices]\n",
        "  train_y = train_y[indices]\n",
        "\n",
        "  running_loss = 0\n",
        "\n",
        "  for X_batch, y_batch in batch_generator(train_X, train_y, batch_size):\n",
        "\n",
        "    z,a = model.forward(X_batch)\n",
        "    running_loss += celoss(a[len(a)-1], y_batch)\n",
        "    model.backprop(z, a, y_batch)\n",
        "\n",
        "  val_loss = 0\n",
        "  for X_batch, y_batch in batch_generator(val_X, val_y, batch_size):\n",
        "    z,a = model.forward(X_batch)\n",
        "    val_loss += celoss(a[len(a)-1], y_batch)\n",
        "\n",
        "  #wandb.log({\"Train loss\": running_loss/train_X.shape[0], \"Val loss\": val_loss/val_X.shape[0]})\n",
        "\n",
        "  print(f\"Epoch {epoch+1}/{num_epochs} done. Train loss: {running_loss/train_X.shape[0]}, Val loss: {val_loss/val_X.shape[0]}\")\n",
        "\n",
        "\n",
        "  if val_loss/val_X.shape[0] < best_val_loss:\n",
        "    best_val_loss = val_loss/val_X.shape[0]\n",
        "    best_w = deepcopy(model.w)\n",
        "    best_b = deepcopy(model.b)\n",
        "    epochs_no_improve = 0\n",
        "  else:\n",
        "    epochs_no_improve += 1\n",
        "    print(f\"No improvement in validation loss for {epochs_no_improve} epochs. At Epoch {epoch+1}/{num_epochs}.\")\n",
        "\n",
        "  if epochs_no_improve == patience:\n",
        "    print(\"Early Stopping Triggered!\")\n",
        "    break\n",
        "\n",
        "model.w = best_w\n",
        "model.b = best_b\n",
        "#testing\n",
        "num_correct = 0\n",
        "num_samples = 0\n",
        "for X_batch, y_batch in batch_generator(test_X, test_y, batch_size):\n",
        "  z,a = model.forward(X_batch)\n",
        "  predictions = np.argmax(a[len(a)-1], axis = 1)\n",
        "  num_correct += np.sum(predictions == y_batch)\n",
        "  num_samples += y_batch.shape[0]\n",
        "\n",
        "accuracy = num_correct/num_samples\n",
        "print(f\"Model Accuracy: {accuracy*100:.2f}%\")\n",
        "#wandb.log({\"Test Accuracy\": accuracy*100})\n",
        "#wandb.finish()"
      ]
    },
    {
      "cell_type": "code",
      "execution_count": null,
      "metadata": {
        "id": "4PFxeSEVdyUn"
      },
      "outputs": [],
      "source": [
        "\n"
      ]
    },
    {
      "cell_type": "code",
      "execution_count": null,
      "metadata": {
        "id": "-1lU9Asui2Rb"
      },
      "outputs": [],
      "source": []
    }
  ],
  "metadata": {
    "colab": {
      "collapsed_sections": [
        "d8FGDrfHvfCG",
        "EdR7mxmlE_UV"
      ],
      "machine_shape": "hm",
      "provenance": []
    },
    "kernelspec": {
      "display_name": "Python 3",
      "name": "python3"
    },
    "language_info": {
      "codemirror_mode": {
        "name": "ipython",
        "version": 3
      },
      "file_extension": ".py",
      "mimetype": "text/x-python",
      "name": "python",
      "nbconvert_exporter": "python",
      "pygments_lexer": "ipython3",
      "version": "3.11.5"
    }
  },
  "nbformat": 4,
  "nbformat_minor": 0
}