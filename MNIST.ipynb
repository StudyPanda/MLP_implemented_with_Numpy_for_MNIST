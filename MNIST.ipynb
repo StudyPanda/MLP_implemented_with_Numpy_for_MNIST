{
 "cells": [
  {
   "cell_type": "markdown",
   "id": "3bdc992b",
   "metadata": {},
   "source": [
    "# INM702 Neural Network for MNIST"
   ]
  },
  {
   "cell_type": "code",
   "execution_count": 1,
   "id": "ff80836e",
   "metadata": {},
   "outputs": [],
   "source": [
    "import pandas as pd,numpy as np,matplotlib.pyplot as plt, os\n",
    "from sklearn.model_selection import train_test_split\n",
    "from sklearn.metrics import confusion_matrix, accuracy_score\n",
    "%matplotlib inline"
   ]
  },
  {
   "cell_type": "markdown",
   "id": "1ed00eea",
   "metadata": {},
   "source": [
    "## Mathematical Functions and Derivatives"
   ]
  },
  {
   "cell_type": "code",
   "execution_count": 2,
   "id": "cfee9fab",
   "metadata": {},
   "outputs": [],
   "source": [
    "#Activation Functions\n",
    "import numpy as np\n",
    "#Input and Hidden Layers\n",
    "@np.vectorize\n",
    "def sigmoid(x):\n",
    "    return 1 / (1 + np.exp(-x))\n",
    "\n",
    "@np.vectorize\n",
    "def d_sigmoid(x):\n",
    "    pass \n",
    "\n",
    "@np.vectorize\n",
    "def relu(x):\n",
    "    pass\n",
    "\n",
    "@np.vectorize\n",
    "def d_relu(x):\n",
    "    pass\n",
    "\n",
    "#Output Layer\n",
    "@np.vectorize\n",
    "def softmax(x):\n",
    "    pass\n",
    "    \n",
    "#Loss Functions\n",
    "@np.vectorize\n",
    "def cross_entropy_loss(x):\n",
    "    pass\n",
    "\n",
    "@np.vectorize\n",
    "def d_loss(x):\n",
    "    pass\n",
    "\n",
    "#Truncated Normal Distribution for Initialising weights\n",
    "from scipy.stats import truncnorm\n",
    "def trunc_norm(mean = 0, sd = 1, lower = -1, upper = 1):\n",
    "    return truncnorm((lower - mean) / sd, (upper - mean) / sd, loc=mean, scale=sd)\n",
    "    "
   ]
  },
  {
   "cell_type": "markdown",
   "id": "50266928",
   "metadata": {},
   "source": [
    "## Neural Network Class"
   ]
  },
  {
   "cell_type": "code",
   "execution_count": 3,
   "id": "57f2e401",
   "metadata": {},
   "outputs": [],
   "source": [
    "class NeuralNetwork:\n",
    "    def __init__(self, hidden_layer_sizes = [128,128], learning_rate = 0.001 , activation_fn = 'r', dropout_rate = 0):\n",
    "        #list for number of units in each layer, 28*28 inputs, 10 outputs\n",
    "        self.layer_sizes = [28*28] + hidden_layer_sizes + [10]\n",
    "        self.lr = learning_rate\n",
    "        self.dr = dropout_rate\n",
    "        \n",
    "        #activation_fn parameter takes 'r'(default) or 's' to choose ReLu or Sigmoid for the activation function\n",
    "        if activation_fn == 's':\n",
    "            self.activation = sigmoid\n",
    "            self.d_activation = d_sigmoid\n",
    "        else:\n",
    "            self.activation = relu\n",
    "            self.d_activation = d_relu\n",
    "            \n",
    "        self.initialise_weights()\n",
    "    \n",
    "    def initialise_weights(self):\n",
    "        pass\n",
    "    \n",
    "    def forward_pass(self, x):\n",
    "        pass\n",
    "    \n",
    "    def back_prop(self, y):\n",
    "        pass\n",
    "    \n",
    "    def train(self, x_train, y_train, epochs = 5):\n",
    "        pass\n",
    "    \n",
    "    def test(self, x_test):\n",
    "        pass\n",
    "            \n",
    "        "
   ]
  },
  {
   "cell_type": "markdown",
   "id": "61ca1d8c",
   "metadata": {},
   "source": [
    "## Load and Preprocess MNIST dataset"
   ]
  },
  {
   "cell_type": "code",
   "execution_count": 4,
   "id": "80726c74",
   "metadata": {},
   "outputs": [],
   "source": [
    "#Load train and test csv\n",
    "input_folder_path = \"MNIST_data/\"\n",
    "\n",
    "train_df = pd.read_csv(input_folder_path + \"mnist_train.csv\")\n",
    "test_df = pd.read_csv(input_folder_path + \"mnist_test.csv\")\n",
    "\n",
    "#First column is the target/label\n",
    "train_labels = train_df['label'].values\n",
    "test_labels = test_df['label'].values\n",
    "\n",
    "#Pixels values start from the 2nd column\n",
    "train_images = (train_df.iloc[:,1:].values).astype('float32')\n",
    "test_images = (test_df.iloc[:,1:].values).astype('float32')\n",
    "\n",
    "#Normalise\n",
    "train_images /= 255\n",
    "test_images /=255\n",
    "\n",
    "#One Hot Encoding\n",
    "from tensorflow.keras.utils import to_categorical\n",
    "train_labels = to_categorical(train_labels)\n",
    "test_labels = to_categorical(test_labels)"
   ]
  },
  {
   "cell_type": "code",
   "execution_count": 6,
   "id": "d5f71418",
   "metadata": {},
   "outputs": [
    {
     "name": "stdout",
     "output_type": "stream",
     "text": [
      "[0. 0. 1. 0. 0. 0. 0. 0. 0. 0.]\n"
     ]
    }
   ],
   "source": [
    "print(train_labels[5])"
   ]
  },
  {
   "cell_type": "code",
   "execution_count": null,
   "id": "8bd8da32",
   "metadata": {},
   "outputs": [],
   "source": []
  }
 ],
 "metadata": {
  "kernelspec": {
   "display_name": "Python 3 (ipykernel)",
   "language": "python",
   "name": "python3"
  },
  "language_info": {
   "codemirror_mode": {
    "name": "ipython",
    "version": 3
   },
   "file_extension": ".py",
   "mimetype": "text/x-python",
   "name": "python",
   "nbconvert_exporter": "python",
   "pygments_lexer": "ipython3",
   "version": "3.11.5"
  }
 },
 "nbformat": 4,
 "nbformat_minor": 5
}
