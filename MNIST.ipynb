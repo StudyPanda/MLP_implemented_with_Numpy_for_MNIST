{
 "cells": [
  {
   "cell_type": "markdown",
   "id": "3bdc992b",
   "metadata": {},
   "source": [
    "# INM702 Neural Network for MNIST"
   ]
  },
  {
   "cell_type": "markdown",
   "id": "15c2d2bb",
   "metadata": {},
   "source": [
    "## Mathematical Functions and Derivatives"
   ]
  },
  {
   "cell_type": "code",
   "execution_count": null,
   "id": "86deaa8d",
   "metadata": {},
   "outputs": [],
   "source": [
    "#Activation Functions\n",
    "import numpy as np\n",
    "#Input and Hidden Layers\n",
    "@np.vectorize\n",
    "def sigmoid(x):\n",
    "    return 1 / (1 + np.exp(-x))\n",
    "\n",
    "@np.vectorize\n",
    "def d_sigmoid(x):\n",
    "    pass \n",
    "\n",
    "@np.vectorize\n",
    "def relu(x):\n",
    "    pass\n",
    "\n",
    "@np.vectorize\n",
    "def d_relu(x):\n",
    "    pass\n",
    "\n",
    "#Output Layer\n",
    "@np.vectorize\n",
    "def softmax(x):\n",
    "    pass\n",
    "    \n",
    "#Loss Functions\n",
    "@np.vectorize\n",
    "def cross_entropy_loss(x):\n",
    "    pass\n",
    "\n",
    "@np.vectorize\n",
    "def d_loss(x):\n",
    "    pass\n",
    "\n",
    "#Truncated Normal Distribution for Initialising weights\n",
    "from scipy.stats import truncnorm\n",
    "def trunc_norm(mean = 0, sd = 1, lower = -1, upper = 1):\n",
    "    return truncnorm((lower - mean) / sd, (upper - mean) / sd, loc=mean, scale=sd)\n",
    "    "
   ]
  },
  {
   "cell_type": "markdown",
   "id": "fb879e0e",
   "metadata": {},
   "source": [
    "## Neural Network Class"
   ]
  },
  {
   "cell_type": "code",
   "execution_count": null,
   "id": "3e4b04f7",
   "metadata": {},
   "outputs": [],
   "source": [
    "class NeuralNetwork:\n",
    "    def __init__(self, hidden_layer_sizes = [128,128], learning_rate = 0.001 , activation_fn = 'r', dropout_rate = 0):\n",
    "        self.layer_sizes = [28*28] + hidden_layer_sizes + [10]\n",
    "        self.lr = learning_rate\n",
    "        self.dr = dropout_rate\n",
    "        \n",
    "        #activation_fn parameter takes 'r'(default) or 's' to choose ReLu or Sigmoid for the activation function\n",
    "        if activation_fn == 's':\n",
    "            self.activation = sigmoid\n",
    "            self.d_activation = d_sigmoid\n",
    "        else:\n",
    "            self.activation = relu\n",
    "            self.d_activation = d_relu\n",
    "            \n",
    "        self.initialise_weights()\n",
    "    \n",
    "    def initialise_weights(self):\n",
    "        pass\n",
    "    \n",
    "    def forward_pass(self, x):\n",
    "        pass\n",
    "    \n",
    "    def back_prop(self, y):\n",
    "        pass\n",
    "    \n",
    "    def train(self, x_train, y_train, epochs = 5):\n",
    "        pass\n",
    "    \n",
    "    def test(self, x_test):\n",
    "        pass\n",
    "            \n",
    "        "
   ]
  },
  {
   "cell_type": "code",
   "execution_count": null,
   "id": "fce43540",
   "metadata": {},
   "outputs": [],
   "source": []
  }
 ],
 "metadata": {
  "kernelspec": {
   "display_name": "Python 3 (ipykernel)",
   "language": "python",
   "name": "python3"
  },
  "language_info": {
   "codemirror_mode": {
    "name": "ipython",
    "version": 3
   },
   "file_extension": ".py",
   "mimetype": "text/x-python",
   "name": "python",
   "nbconvert_exporter": "python",
   "pygments_lexer": "ipython3",
   "version": "3.11.5"
  }
 },
 "nbformat": 4,
 "nbformat_minor": 5
}
