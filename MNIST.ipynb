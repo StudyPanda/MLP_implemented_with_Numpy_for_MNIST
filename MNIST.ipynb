{
 "cells": [
  {
   "cell_type": "markdown",
   "id": "3bdc992b",
   "metadata": {},
   "source": [
    "# INM702 Neural Network for MNIST"
   ]
  },
  {
   "cell_type": "code",
   "execution_count": 12,
   "id": "ff80836e",
   "metadata": {},
   "outputs": [],
   "source": [
    "import pandas as pd,numpy as np,matplotlib.pyplot as plt, os\n",
    "from sklearn.model_selection import train_test_split\n",
    "from sklearn.metrics import confusion_matrix, accuracy_score\n",
    "%matplotlib inline"
   ]
  },
  {
   "cell_type": "markdown",
   "id": "1ed00eea",
   "metadata": {},
   "source": [
    "## Mathematical Functions and Derivatives"
   ]
  },
  {
   "cell_type": "code",
   "execution_count": 63,
   "id": "cfee9fab",
   "metadata": {},
   "outputs": [],
   "source": [
    "#Activation Functions\n",
    "import numpy as np\n",
    "#Input and Hidden Layers\n",
    "@np.vectorize\n",
    "def sigmoid(x):\n",
    "    return 1 / (1 + np.exp(-x))\n",
    "\n",
    "@np.vectorize\n",
    "def d_sigmoid(x):\n",
    "    s = sigmoid(x)\n",
    "    return s * (1 - s)\n",
    "\n",
    "@np.vectorize\n",
    "def relu(x):\n",
    "    return x * (x > 0)\n",
    "\n",
    "@np.vectorize\n",
    "def d_relu(x):\n",
    "    return 1 * (x > 0)\n",
    "\n",
    "#Output Layer\n",
    "def softmax(x):\n",
    "    e = np.exp(x)\n",
    "    return e / e.sum()\n",
    "    \n",
    "#Loss Functions\n",
    "@np.vectorize\n",
    "def cross_entropy_loss(y_pred, y):\n",
    "    if y == 1:\n",
    "        return -np.log(y_pred)\n",
    "    else:\n",
    "        return -np.log(1 - y_pred)\n",
    "\n",
    "#d_loss = dL/dsoftmax * dsoftmax/dz\n",
    "@np.vectorize\n",
    "def d_loss(y_pred, y):\n",
    "    return y_pred - y\n",
    "    \n",
    "\n",
    "#Truncated Normal Distribution for Initialising weights\n",
    "from scipy.stats import truncnorm\n",
    "def trunc_norm(mean = 0, sd = 1, lower = -1, upper = 1):\n",
    "    return truncnorm((lower - mean) / sd, (upper - mean) / sd, loc=mean, scale=sd)\n",
    "    "
   ]
  },
  {
   "cell_type": "markdown",
   "id": "50266928",
   "metadata": {},
   "source": [
    "## Neural Network Class"
   ]
  },
  {
   "cell_type": "code",
   "execution_count": 58,
   "id": "57f2e401",
   "metadata": {},
   "outputs": [],
   "source": [
    "class NeuralNetwork:\n",
    "    def __init__(self, hidden_layer_sizes = [128,128], learning_rate = 0.001 , activation_fn = 'r', dropout_rate = 0):\n",
    "        #list for number of units in each layer, 28*28 inputs, 10 outputs\n",
    "        self.layer_sizes = [28*28] + hidden_layer_sizes + [10]\n",
    "        self.lr = learning_rate\n",
    "        self.dr = dropout_rate\n",
    "        \n",
    "        #activation_fn parameter takes 'r'(default) or 's' to choose ReLu or Sigmoid for the activation function\n",
    "        if activation_fn == 's':\n",
    "            self.activation = sigmoid\n",
    "            self.d_activation = d_sigmoid\n",
    "        else:\n",
    "            self.activation = relu\n",
    "            self.d_activation = d_relu\n",
    "            \n",
    "        self.initialise_weights()\n",
    "    \n",
    "    def initialise_weights(self):\n",
    "        self.weights = list()\n",
    "        for i in range(len(self.layer_sizes) - 1):\n",
    "            #use truncated normal distribution to intialise weights\n",
    "            trunc = 1 / np.sqrt(self.layer_sizes[i])\n",
    "            X = trunc_norm(mean = 0, sd = 1, lower = -trunc, upper = trunc)\n",
    "            w = X.rvs((self.layer_sizes[i+1], self.layer_sizes[i]))\n",
    "            self.weights.append(w)\n",
    "    \n",
    "    def forward_pass(self, x):\n",
    "        x = np.array(x).T\n",
    "        #input to hidden layer\n",
    "        self.z = [np.dot(self.weights[0], x)]\n",
    "        self.a = [self.activation(self.z[0])]\n",
    "        \n",
    "        #hidden layers\n",
    "        for i in range(len(self.weights) - 2):\n",
    "            self.z.append(np.dot(self.weights[1 + i], self.a[i]))\n",
    "            self.a.append(self.activation(self.z[1 + i]))\n",
    "            \n",
    "        #hidden to output layer\n",
    "        self.z.append(np.dot(self.weights[-1], self.a[-1]))\n",
    "        self.a.append(softmax(self.z[-1]))\n",
    "        \n",
    "    \n",
    "    def back_prop(self, y):\n",
    "        pass\n",
    "    \n",
    "    def train(self, x_train, y_train, epochs = 5):\n",
    "        pass\n",
    "    \n",
    "    def test(self, x_test):\n",
    "        pass\n",
    "            \n",
    "        "
   ]
  },
  {
   "cell_type": "markdown",
   "id": "61ca1d8c",
   "metadata": {},
   "source": [
    "## Load and Preprocess MNIST dataset"
   ]
  },
  {
   "cell_type": "code",
   "execution_count": 15,
   "id": "80726c74",
   "metadata": {},
   "outputs": [],
   "source": [
    "#Load train and test csv\n",
    "input_folder_path = \"MNIST_data/\"\n",
    "\n",
    "train_df = pd.read_csv(input_folder_path + \"mnist_train.csv\")\n",
    "test_df = pd.read_csv(input_folder_path + \"mnist_test.csv\")\n",
    "\n",
    "#First column is the target/label\n",
    "train_labels = train_df['label'].values\n",
    "test_labels = test_df['label'].values\n",
    "\n",
    "#Pixels values start from the 2nd column\n",
    "train_images = (train_df.iloc[:,1:].values).astype('float32')\n",
    "test_images = (test_df.iloc[:,1:].values).astype('float32')\n",
    "\n",
    "#Normalise\n",
    "train_images /= 255\n",
    "test_images /=255\n",
    "\n",
    "#One Hot Encoding\n",
    "from tensorflow.keras.utils import to_categorical\n",
    "train_labels = to_categorical(train_labels)\n",
    "test_labels = to_categorical(test_labels)"
   ]
  },
  {
   "cell_type": "markdown",
   "id": "9f6dd562",
   "metadata": {},
   "source": [
    "## Create NN instance"
   ]
  },
  {
   "cell_type": "code",
   "execution_count": 67,
   "id": "8bd8da32",
   "metadata": {},
   "outputs": [
    {
     "name": "stdout",
     "output_type": "stream",
     "text": [
      "(100,)\n",
      "(100,)\n",
      "(10,)\n",
      "[0.0961335  0.10115931 0.10241098 0.10389784 0.10185598 0.0999216\n",
      " 0.10112003 0.10048259 0.09940385 0.09361433]\n",
      "[-5.06249054e-02  3.33811916e-04  1.26311869e-02  2.70453893e-02\n",
      "  7.19708589e-03 -1.19769172e-02 -5.45757242e-05 -6.37831746e-03\n",
      " -1.71718769e-02 -7.71793341e-02]\n",
      "1.0\n"
     ]
    }
   ],
   "source": [
    "simple_network = NeuralNetwork(hidden_layer_sizes = [100,100])\n",
    "simple_network.forward_pass(train_images[0])\n",
    "for x in simple_network.a:\n",
    "    print(x.shape)\n",
    "\n",
    "print(simple_network.a[-1])\n",
    "print(simple_network.z[-1])\n",
    "\n",
    "print(sum(softmax(simple_network.z[-1])))\n"
   ]
  },
  {
   "cell_type": "code",
   "execution_count": null,
   "id": "ad005823",
   "metadata": {},
   "outputs": [],
   "source": []
  }
 ],
 "metadata": {
  "kernelspec": {
   "display_name": "Python 3 (ipykernel)",
   "language": "python",
   "name": "python3"
  },
  "language_info": {
   "codemirror_mode": {
    "name": "ipython",
    "version": 3
   },
   "file_extension": ".py",
   "mimetype": "text/x-python",
   "name": "python",
   "nbconvert_exporter": "python",
   "pygments_lexer": "ipython3",
   "version": "3.11.5"
  }
 },
 "nbformat": 4,
 "nbformat_minor": 5
}
